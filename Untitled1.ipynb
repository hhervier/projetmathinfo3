{
 "cells": [
  {
   "cell_type": "markdown",
   "metadata": {},
   "source": [
    "# Projet Numérique 3 : Câble sous-marin\n"
   ]
  },
  {
   "cell_type": "markdown",
   "metadata": {},
   "source": [
    "L'objectif de ce projet est d'estimer la longueur de câble nécessaire pour relier deux côtes A et B en utilisant des simulations conditionnelles.\n",
    "\n",
    "Le câble reposera sur le fond marin dont la prfondeur est inconnue. Le segment [AB] est discrétiser par une séquence de $(N+1)$ points. On pose donc $x_0 = A$ et pour $i = 1,2,...,N$ :\n",
    "> $x_i = x_0 + i * \\Delta$\n",
    "où $\\Delta = \\frac{AB}{N}$\n",
    "\n",
    "On note $z(x)$ la profondeur du fond marin au point $x$ de telle sorte qu'on pourra estimer la longueur totale $l$ de câble nécessaire par la somme des longueurs de cable sur les segment de la discretisation : \n",
    ">$ l = \\sum \\limits_{{i=1}}^n \\sqrt{\\Delta^2 + (z(x_i)-z(x_{i-1}))^2}$\n"
   ]
  },
  {
   "cell_type": "markdown",
   "metadata": {},
   "source": [
    "__Questions théoriques :__ \n"
   ]
  },
  {
   "cell_type": "markdown",
   "metadata": {},
   "source": [
    "__Théorème du cours nous autorisant à estimer l'espérance conditionnelle par la moyenne empirique de simulations conditionnelles.__\n",
    "\n",
    "D'après la loi des grands nombres : \n",
    "$\\underset{K \\to +\\infty}{lim}L^*=\\underset{K \\to +\\infty}{lim}\\frac{1}{K}\\sum\\limits_{i=1}^{K}l_{(K)}=L$\n"
    "$Ainsi,\\: on\\: peut\\: approximer\\: L\\: par\\: L^*$\n",
    "\n",
    "\n"
   ]
  },
  {
   "cell_type": "markdown",
   "metadata": {},
   "source": [
    "__Loi conditionnelle du vecteur des composantes de Z correspondant aux points de discrétisation sans observation, connaissant les valeurs prises par les composantes aux sites d'observation.__\n",
    "\n",
    "On considère notre vecteur gaussien $Z = (Z(x_0),\\ldots,Z(x_N))$ à valeurs dans\n",
    "$\\mathbb{R}^n$ d'espérance $\\mu$ et de matrice de covariance $\\sum$\n",
    "définie positive. On sait que la densité du vecteur $Z$\n",
    "s'écrit pour $z\\in\\mathbb{R}^d$ :\n",
    "$f_Z(z) = \\frac{1}{(2\\pi)^{n/2}\\sqrt{\\det (\\sum)}}\\exp \\left(-\\frac{1}{2}(z-\\mu)^t \\sum^{-1}(z-\\mu)\\right)$\n",
    "\n",
    "On souhaite trouver la loi de $Z_{i\\notin\\{j_1,\\ldots,j_n\\}}|Z_{i\\in\\{j_1,\\ldots,j_n\\}}=(z(x_{j_1}),\\ldots,z(x_{j_n}))$ \n",
    "\n",
    "\n",
    "Grâce au cours Probabilités IV, on sait que: $Z_{i\\notin\\{j_1,\\ldots,j_n\\}}|Z_{i\\in\\{j_1,\\ldots,j_n\\}}=(z(x_{j_1}),\\ldots,z(x_{j_n}))$  \n",
    "est gaussienne d'espérance \n",
    "$m_{Z_{i\\notin\\{j_1,\\ldots,j_n\\}}|Z_{i\\in\\{j_1,\\ldots,j_n\\}}=(z(x_{j_1}),\\ldots,z(x_{j_n}))}$ =$ m_{Z_{i\\notin\\{j_1,\\ldots,j_n\\}}}$ + $\\sum_{Z_{i\\notin\\{j_1,\\ldots,j_n\\}},Z_{i\\in\\{j_1,\\ldots,j_n\\}}}\\sum_{Z_{i\\in\\{j_1,\\ldots,j_n\\}}}^{-1}((z(x_{j_1}),\\ldots,z(x_{j_n}))-m_{Z_{i\\in\\{j_1,\\ldots,j_n\\}}}) $\n",
    "\n",
    "et de matrice de covariance \n",
    "$\\sum S_{Z_{i\\notin\\{j_1,\\ldots,j_n\\}}} = \\sum_{Z_{i\\notin\\{j_1,\\ldots,j_n\\}}} - \\sum_{Z_{i\\notin\\{j_1,\\ldots,j_n\\}},Z_{i\\in\\{j_1,\\ldots,j_n\\}}}\\sum_{Z_{i\\in\\{j_1,\\ldots,j_n\\}}}^{-1}\\sum_{Z_{i\\in\\{j_1,\\ldots,j_n\\}},Z_{i\\notin\\{j_1,\\ldots,j_n\\}}}$. \n",
    "\n",
    "Autrement dit, l'espérance conditionnelle de $Z_{i\\notin\\{j_1,\\ldots,j_n\\}}$ sachant $Z_{i\\in\\{j_1,\\ldots,j_n\\}}=(z(x_{j_1}),\\ldots,z(x_{j_n}))$ est la variable\n",
    "aléatoire \n",
    "\n",
    "$\\mathbb{E}(Z_{i\\notin\\{j_1,\\ldots,j_n\\}}|Z_{i\\in\\{j_1,\\ldots,j_n\\}}) =m_{Z_{i\\notin\\{j_1,\\ldots,j_n\\}}} + \\sum_{Z_{i\\notin\\{j_1,\\ldots,j_n\\}},Z_{i\\in\\{j_1,\\ldots,j_n\\}}}\\sum_{Z_{i\\in\\{j_1,\\ldots,j_n\\}}}^{-1}(Z_{i\\in\\{j_1,\\ldots,j_n\\}}-m_{Z_{i\\in\\{j_1,\\ldots,j_n\\}}})$   \n",
    "avec $m_{Z_{i\\notin\\{j_1,\\ldots,j_n\\}}})=(\\mu,\\ldots,\\mu)\\in\\mathbb{R}^{N-n}$.\n",
    "\n"
   ]
  },
  {
   "cell_type": "markdown",
   "metadata": {},
   "source": [
    "__Loi du vecteur $Z = m +RY$ si $Y = (Y_1, . . . , Y_p)$ est un vecteur de composantes gaussiennes toutes d'espérance nulle et de variance 1.__\n",
    "\n",
    "Par combinaison linéaire, $Z$ suit une loi gaussienne.\n",
    "\n",
    "On a :$E(Z)=E(m+RY)=E(m)+E(RY)=m$\n",
    "et $V(Z)=V(m+RY)=V(RY)=RR^t$"
   ]
  },
  {
   "cell_type": "markdown",
   "metadata": {},
   "source": [
    "__Algorithme de simulation conditionnelle.__\n",
    "\n",
    "On pose $Y=(Y_0,\\ldots,Y_N)$ tel que $Z=\\mu+LY$ avec $L$ défini par $\\sum=LL^t$\n",
    "On a bien: $\\forall i\\in[0,N],E(Y_i)=0$, $\\forall i\\in[0,N],V(Y_i)=1$ et tous les $Y_i$ sont indépendants.\n",
    "On a alors, d'après la partis \"Simulation d'un vecteur gaussien à densité\" de Probabilités V, sa simulation, son espérance et sa variance."
   ]
  },
  {
   "cell_type": "markdown",
   "metadata": {},
   "source": [
    "__Questions :__ "
   ]
  },
  {
   "cell_type": "markdown",
   "metadata": {},
   "source": [
    "__Préambule__\n",
    "\n",
    "On pose toutes les variables qui nous seront utilent et on importe tous les modules."
   ]
  },
  {
   "cell_type": "code",
   "execution_count": 1,
   "metadata": {},
   "outputs": [],
   "source": [
    "#Chargement de dépendances\n",
    "import numpy as np\n",
    "import matplotlib.pyplot as plt\n",
    "from math import *\n",
    "from numpy.linalg import inv\n",
    "from numpy.linalg import det\n",
    "from numpy.linalg import cholesky\n",
    "import copy\n",
    "\n",
    "#Discrétisation\n",
    "\n",
    "A = 0\n",
    "B = 500\n",
    "N = 101 #Nombre de points de discrétisation \n",
    "Delta = (B-A)/(N-1)\n",
    "discretization_indexes = np.arange(N) \n",
    "discretization = discretization_indexes*Delta #Paramètres du modèle\n",
    "mu = -5\n",
    "a = 50 \n",
    "sigma2 = 12\n",
    "\n",
    "#Données\n",
    "observation_indexes = [0,20,40,60,80,100] \n",
    "depth = np.array([0,-4,-12.8,-1,-6.5,0])\n",
    "\n",
    "#Indices des composantes correspondant aux observations et aux componsantes non observées\n",
    "unknown_indexes=list(set(discretization_indexes)-set(observation_indexes))"
   ]
  },
  {
   "cell_type": "markdown",
   "metadata": {},
   "source": [
    "__Fonction retournant la covariance entre 2 points__\n",
    "\n",
    "La formule nous est donnée dans l'énoncé, il nous suffit donc de la programmer.\n",
    "> $C(h) = \\sigma^2e^{-|h|/2}$ où $|h|$ est la distance entre 2 points.\n",
    "\n",
    "Par la suite, on \"vectorise\" la fonction de façon a pouvoir lui rentrer en argument une matrice pour qu'elle nous renvoie une matrice."
   ]
  },
  {
   "cell_type": "code",
   "execution_count": 2,
   "metadata": {},
   "outputs": [],
   "source": [
    "def C(distanceEntre2Points, var = sigma2, x = a):\n",
    "    return var*np.exp(-distanceEntre2Points/x)\n",
    "\n",
    "C = np.vectorize(C)"
   ]
  },
  {
   "cell_type": "markdown",
   "metadata": {},
   "source": [
    "__Calcul de la matrice de distance__\n",
    "\n",
    "Il ne s'agit ici que de calculer la distance entre les abscisses des points car la covariance ne dépend que de cela. "
   ]
  },
  {
   "cell_type": "code",
   "execution_count": 3,
   "metadata": {},
   "outputs": [
    {
     "name": "stdout",
     "output_type": "stream",
     "text": [
      "[[  0.   5.  10. ... 490. 495. 500.]\n",
      " [  5.   0.   5. ... 485. 490. 495.]\n",
      " [ 10.   5.   0. ... 480. 485. 490.]\n",
      " ...\n",
      " [490. 485. 480. ...   0.   5.  10.]\n",
      " [495. 490. 485. ...   5.   0.   5.]\n",
      " [500. 495. 490. ...  10.   5.   0.]]\n"
     ]
    }
   ],
   "source": [
    "def matDist(x):\n",
    "    mat = np.zeros((len(x),len(x)))\n",
    "    for i in range(len(x)):\n",
    "        for j in range(len(x)):\n",
    "            mat[i][j] = abs(x[i]-x[j])\n",
    "    return mat\n",
    "\n",
    "A = matDist(discretization)\n",
    "print(A)"
   ]
  },
  {
   "cell_type": "markdown",
   "metadata": {},
   "source": [
    "__Calcul de la matrice de covariance__\n",
    "\n",
    "Pour cela, on utilise la fonction donnant la covariance entre 2 points. On l'applique à la matrice de distance calculée précédemment."
   ]
  },
  {
   "cell_type": "code",
   "execution_count": 4,
   "metadata": {
    "scrolled": true
   },
   "outputs": [
    {
     "name": "stdout",
     "output_type": "stream",
     "text": [
      "[[1.20000000e+01 1.08580490e+01 9.82476904e+00 ... 6.65419193e-04\n",
      "  6.02096185e-04 5.44799157e-04]\n",
      " [1.08580490e+01 1.20000000e+01 1.08580490e+01 ... 7.35401941e-04\n",
      "  6.65419193e-04 6.02096185e-04]\n",
      " [9.82476904e+00 1.08580490e+01 1.20000000e+01 ... 8.12744838e-04\n",
      "  7.35401941e-04 6.65419193e-04]\n",
      " ...\n",
      " [6.65419193e-04 7.35401941e-04 8.12744838e-04 ... 1.20000000e+01\n",
      "  1.08580490e+01 9.82476904e+00]\n",
      " [6.02096185e-04 6.65419193e-04 7.35401941e-04 ... 1.08580490e+01\n",
      "  1.20000000e+01 1.08580490e+01]\n",
      " [5.44799157e-04 6.02096185e-04 6.65419193e-04 ... 9.82476904e+00\n",
      "  1.08580490e+01 1.20000000e+01]]\n"
     ]
    }
   ],
   "source": [
    "B = C(A)\n",
    "print(B)"
   ]
  },
  {
   "cell_type": "markdown",
   "metadata": {},
   "source": [
    "__Extraction des matrices de covariances entre les observations, entre les observations et les inconnues et entre les inconnues.__\n",
    "\n",
    "Afin d'extraire ces matrices, on crée 2 fonctions (car pour extraire les matrices entre inconnues et entre observations on utilise la même fonction). "
   ]
  },
  {
   "cell_type": "code",
   "execution_count": 5,
   "metadata": {},
   "outputs": [],
   "source": [
    "def extractionObsOrInc(x): ##Mettre les indices connus ou inconnus selon ce qui est souhaité\n",
    "    temp1 = np.zeros((len(x),len(x)))\n",
    "    temp2 = C(matDist(discretization))\n",
    "    for i in range(len(x)):\n",
    "        for j in range(len(x)):\n",
    "            temp1[i][j] = temp2[x[i]][x[j]]\n",
    "    return temp1\n",
    "\n",
    "def extractionObsVsInc(x,y): ##Mettre les indices connus x et inconnus y\n",
    "    temp1 = np.zeros((len(x),len(y)))\n",
    "    temp2 = C(matDist(discretization))\n",
    "    for i in range(len(x)):\n",
    "        for j in range(len(y)):\n",
    "            temp1[i][j] = temp2[x[i]][y[j]]\n",
    "    return temp1\n",
    "\n",
    "Cunk = extractionObsOrInc(unknown_indexes)\n",
    "#taille (95,95)\n",
    "Ckno = extractionObsOrInc(observation_indexes)\n",
    "#taille (6,6)\n",
    "Ckno_unk = extractionObsVsInc(observation_indexes,unknown_indexes) \n",
    "#taille (6,95)\n",
    "Cunk_kno = extractionObsVsInc(unknown_indexes,observation_indexes)\n",
    "#taille (95,6)"
   ]
  },
  {
   "cell_type": "markdown",
   "metadata": {},
   "source": [
    "__Calcul et représentation de l'espérance conditionnelle des composantes non observées connaissent les observations__\n",
    "\n",
    "En premier lieu, on peut voir ci-dessous les fonctions utiles à ce calcul.\n",
    "On se trouve ici dans le cas des vecteurs gaussiens à densité, c'est-à-dire dont la matrice de covariance est définie positive et donc inversible.\n",
    "\n",
    "On considère un vecteur gaussien $Z = (z(x_0),z(x_1),\\ldots, z(x_{100}))$ à valeurs dans\n",
    "$\\mathbb{R}^n$ d'espérance $m = (\\mu, \\mu,\\ldots, \\mu)$ et de matrice de covariance $C$\n",
    "définie positive.\n",
    "\n",
    "On note $X = (z(x_0),z(x_{20}),z(x_{40}),z(x_{60}),z(x_{80}), z(x_{100}))$, $Y = (z(x_1),\\ldots,z(x_{99}))$ ($Z$ a qui on a retiré les composantes de $X$), $m = (m_X,m_Y)$ et on remarque que $C$ peut se décomposer en blocs :\n",
    "\\begin{equation*}\n",
    "C = \\left(\\begin{array}{cc} C_Y & C_{Y,X} \\\\ C_{X,Y} & C_X \\end{array}\\right)\n",
    "\\end{equation*} où $C_Y = \\text{Cov}(Y,Y)$, $C_Z = \\text{Cov}(Z,Z)$ et $C_{Y,X} = \\text{Cov}(Y,X)$. Le complément de\n",
    "Schur du bloc $C_Y$ est la matrice\n",
    "$CS_Y = C_Y - C_{Y,X}C_X^{-1}C_{X,Y}$.\n",
    "\n",
    "C'est-à-dire que la variable aléatoire $Y|Z=z$ est gaussienne\n",
    "d'espérance $m_{Y|Z=z} = \\psi(z) = m_Y + C_{Y,Z}C_Z^{-1}(z-m_Z)$ et de\n",
    "matrice de covariance $CS_Y = C_Y - C_{Y,Z}C_Z^{-1}C_{Z,Y}$."
   ]
  },
  {
   "cell_type": "code",
   "execution_count": 6,
   "metadata": {},
   "outputs": [],
   "source": [
    "#Donne le vecteur de taille x ayant mu pour pour chaque composante\n",
    "def esp(x):\n",
    "    temp = []\n",
    "    for i in range(len(x)):\n",
    "        temp.append(mu)\n",
    "    return temp\n",
    "\n",
    "#Soustration de liste terme a terme\n",
    "def soustraction(a,b):\n",
    "    temp = []\n",
    "    for i in range(len(a)):\n",
    "        temp.append(a[i]-b[i])\n",
    "    return temp \n",
    "\n",
    "#addition de liste terme a terme\n",
    "def addition(a,b):\n",
    "    temp = []\n",
    "    for i in range(len(a)):\n",
    "        temp.append(a[i]+b[i])\n",
    "    return temp \n",
    "\n",
    "#Conversion des listes d'indices en distance\n",
    "def indexToDistance(x):\n",
    "    temp = []\n",
    "    for i in range(len(x)):\n",
    "        temp.append(x[i]*Delta)\n",
    "    return temp\n",
    "\n",
    "\n",
    "#Psi_z est l'espérance de Z\n",
    "Psi_z = addition(esp(unknown_indexes),np.dot(np.dot(Cunk_kno,inv(Ckno)),soustraction(depth,esp(observation_indexes))))\n"
   ]
  },
  {
   "cell_type": "markdown",
   "metadata": {},
   "source": [
    "Cette fonction permet de rajouter les observations à l'espérance conditionnelle calculée. Cela nous permet donc de tracer la profondeur en fonction de la position."
   ]
  },
  {
   "cell_type": "code",
   "execution_count": 7,
   "metadata": {},
   "outputs": [
    {
     "data": {
      "image/png": "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\n",
      "text/plain": [
       "<Figure size 432x288 with 1 Axes>"
      ]
     },
     "metadata": {
      "needs_background": "light"
     },
     "output_type": "display_data"
    }
   ],
   "source": [
    "def profondeurs(kno,indexes,moy):\n",
    "    temp = copy.deepcopy(moy)\n",
    "    for i in indexes :\n",
    "        temp.insert(i,kno[indexes.index(i)])\n",
    "    return temp\n",
    "\n",
    "plt.plot(discretization,profondeurs(depth,observation_indexes,Psi_z))\n",
    "plt.title('Représentation de la profondeur en fonction de la position')\n",
    "plt.show()"
   ]
  },
  {
   "cell_type": "markdown",
   "metadata": {},
   "source": [
    "__Calcul et représentation de la diagonale de la matrice de variance conditionnelle.__\n",
    "\n",
    "On se sert de ce qui est écrit à la question précédente pour calculer la matrice. Puis, on fait une fonction pour extraire la diagonale. On ajoute à cette diagonale les valeurs connues, où la variance conditionnelle est donc nulle. Enfin on trace la variance en fonction de la position."
   ]
  },
  {
   "cell_type": "code",
   "execution_count": 8,
   "metadata": {},
   "outputs": [
    {
     "data": {
      "image/png": "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\n",
      "text/plain": [
       "<Figure size 432x288 with 1 Axes>"
      ]
     },
     "metadata": {
      "needs_background": "light"
     },
     "output_type": "display_data"
    }
   ],
   "source": [
    "#CSunk est la matrice de covariance des profondeurs inconnues sachant celles connues\n",
    "CSunk = Cunk - np.dot(np.dot(Cunk_kno,inv(Ckno)),Ckno_unk)\n",
    "\n",
    "def extractionDiag(x):\n",
    "    temp = []\n",
    "    for i in range(len(x)):\n",
    "        temp.append(x[i][i])\n",
    "    return temp\n",
    "\n",
    "plt.plot(discretization,profondeurs([0,0,0,0,0,0],observation_indexes,extractionDiag(CSunk)))\n",
    "plt.title('Représentation de la variance en fonction de la position')\n",
    "plt.show()"
   ]
  },
  {
   "cell_type": "markdown",
   "metadata": {},
   "source": [
    "On peut voir que plus on s'éloigne des valeurs connues plus la variance conditionnelle est élevée, ce qui est logique. On a une période qui correspond a l'intervalle entre 2 valeurs connues.  "
   ]
  },
  {
   "cell_type": "markdown",
   "metadata": {},
   "source": [
    "__Simulation condtionnelle__"
   ]
  },
  {
   "cell_type": "markdown",
   "metadata": {},
   "source": [
    "Dans un premier temps, on simule des variables aléatoires gaussiennes indépendantes pour pouvoir appliquer la simulation de vecteurs gaussiens a densité. On cherche a en obtenir assez pour pouvoir construire un vecteur $Y$ de même dimension que $Z$ ayant pour matrice de covariance l'identité et une espérance égale au vecteur nulle. Autrement dit, toutes les composantes de $Y$ suivent une loi normale centrée réduite. Pour cela, on utilise la méthode de Box-Muller qui génère un couple de variables indépendantes suivant une loi normale centrée réduite à partir de 2 variables indépendantes suivant une loi uniforme. \n"
   ]
  },
  {
   "cell_type": "code",
   "execution_count": 9,
   "metadata": {},
   "outputs": [],
   "source": [
    "## Cette fonction génère un vecteur à composantes indépendantes suivant une loi normale centrée réduite\n",
    "import random\n",
    "\n",
    "\n",
    "def vectAleatoire(longueur):\n",
    "    vect = []\n",
    "    for i in range(longueur):\n",
    "        U1 = random.uniform(0,1)\n",
    "        U2 = random.uniform(0,1)\n",
    "        vect.append(sqrt(-2*np.log(U1))*np.sin(2*pi*U2))\n",
    "    return vect\n"
   ]
  },
  {
   "cell_type": "markdown",
   "metadata": {},
   "source": [
    "On utilise ensuite la décomposition de Cholesky de la matrice de variance conditionnelle. Cela nous donne donc une matrice triangulaire inféreure. "
   ]
  },
  {
   "cell_type": "code",
   "execution_count": 10,
   "metadata": {},
   "outputs": [
    {
     "name": "stdout",
     "output_type": "stream",
     "text": [
      "[[ 1.47181709e+00  0.00000000e+00  0.00000000e+00 ...  0.00000000e+00\n",
      "   0.00000000e+00  0.00000000e+00]\n",
      " [ 1.32500812e+00  1.47112563e+00  0.00000000e+00 ...  0.00000000e+00\n",
      "   0.00000000e+00  0.00000000e+00]\n",
      " [ 1.19146028e+00  1.32285057e+00  1.47027281e+00 ...  0.00000000e+00\n",
      "   0.00000000e+00  0.00000000e+00]\n",
      " ...\n",
      " [ 7.36641925e-20 -2.13745231e-19 -6.04797370e-19 ...  1.33501307e+00\n",
      "   0.00000000e+00  0.00000000e+00]\n",
      " [ 5.15649348e-19 -1.69637927e-19 -5.60202805e-19 ...  8.82654457e-01\n",
      "   1.26072398e+00  0.00000000e+00]\n",
      " [ 0.00000000e+00  6.63289345e-19 -5.23040668e-19 ...  4.39129749e-01\n",
      "   6.27223259e-01  1.09362513e+00]]\n"
     ]
    }
   ],
   "source": [
    "R = np.linalg.cholesky(CSunk)\n",
    "print(R)"
   ]
  },
  {
   "cell_type": "markdown",
   "metadata": {},
   "source": [
    "Pour générer un vecteur $Z$, on utilise le fait que :\n",
    ">$Z = m + RY$ avec R provenant de la décomposition de Cholesky et Y un vecteur à composantes indépendantes suivant une loi normale centrée réduite.\n",
    "\n",
    "Suis une loi normale d'espérance $m$ et de matrice de covariance $RR^t$."
   ]
  },
  {
   "cell_type": "code",
   "execution_count": 11,
   "metadata": {},
   "outputs": [
    {
     "name": "stdout",
     "output_type": "stream",
     "text": [
      "[  0.5500995    0.99063353   1.04852604  -0.15778773  -0.74396264\n",
      "  -1.52808029  -1.40130277  -1.78716622  -3.75278382  -3.89664146\n",
      "  -4.79839758  -3.99712052  -2.66327508  -3.35082947  -2.65592043\n",
      "  -1.59877447  -3.20654144  -4.04943069  -5.25859437  -5.88575403\n",
      "  -5.67653147  -5.02050074  -4.89344686  -6.71694289  -5.79302755\n",
      "  -4.99608652  -2.73045063  -5.31353618  -7.8946348   -9.94553274\n",
      "  -8.86255932  -9.84568455 -10.54219627 -11.41564154 -11.82253403\n",
      " -13.04273965 -13.17023921 -12.30129177 -11.88772204  -9.663133\n",
      "  -8.97456456 -10.10250898 -10.7270089  -12.10709885 -11.17687751\n",
      "  -8.72025469  -5.98538851  -4.11290737  -2.93692525  -4.77021007\n",
      "  -3.78705785  -3.72026087  -4.44637099  -6.21095735  -3.74522435\n",
      "  -4.93489968  -2.78628607   1.17642671   2.2422116   -0.27320013\n",
      "  -2.51714008  -0.61482245   0.80732335  -0.56837044   0.50189234\n",
      "   1.08581742  -0.34146133  -1.04280775  -1.76508935  -3.34301566\n",
      "  -1.35683773  -2.09186703  -2.68518193  -4.32228601  -6.52979496\n",
      "  -7.62820382  -6.74003494  -3.0652908   -1.78620041  -4.15490445\n",
      "  -2.56304042  -4.48444524  -2.25544152  -1.46449651  -2.65945873\n",
      "  -1.11517218  -2.03341367  -3.21696882  -0.97027899  -1.1103808\n",
      "  -0.19275342   0.44828537   1.15080036  -0.22679149   0.32048567]\n"
     ]
    }
   ],
   "source": [
    "z = Psi_z + np.dot(R,vectAleatoire(95))\n",
    "print(z)"
   ]
  },
  {
   "cell_type": "markdown",
   "metadata": {},
   "source": [
    "On créé cette nouvelle fonction pour insérer les valeurs observées dans le vecteur simulé qui est maintenant de type array et n'est plus une liste. (Cette fonction fonctionne aussi pour les liste alors que profondeurs ne fonctionne pas pour les liste). On ajoute donc les observations a la simulation puis on trace cela avec l'espérance conditionnelle. On introduit une nouvelle simulation avant la représentation de façon a voir le changement entre chaque complation."
   ]
  },
  {
   "cell_type": "code",
   "execution_count": 12,
   "metadata": {},
   "outputs": [
    {
     "data": {
      "image/png": "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\n",
      "text/plain": [
       "<Figure size 432x288 with 1 Axes>"
      ]
     },
     "metadata": {
      "needs_background": "light"
     },
     "output_type": "display_data"
    }
   ],
   "source": [
    "def insertion(kno,indexes,liste):\n",
    "    temp = []\n",
    "    j = 0\n",
    "    for i in range(len(liste)) :\n",
    "        if i+j in indexes :\n",
    "            temp.append(kno[indexes.index(i+j)])\n",
    "            j += 1\n",
    "        temp.append(liste[i])\n",
    "    if len(temp)<len(discretization):\n",
    "        for i in range(len(discretization)-len(temp)):\n",
    "            temp.append(kno[-i])\n",
    "    return temp\n",
    "\n",
    "\n",
    "z = Psi_z + np.dot(np.linalg.cholesky(CSunk),vectAleatoire(95))\n",
    "plt.plot(discretization,insertion(depth,observation_indexes,z))\n",
    "plt.plot(discretization,profondeurs(depth,observation_indexes,Psi_z))\n",
    "plt.title('Comparaison entre espérance et simulation')\n",
    "plt.show()"
   ]
  },
  {
   "cell_type": "markdown",
   "metadata": {},
   "source": [
    "__Calcul de la longueur du câble__\n",
    "\n",
    "On créé cette fonction qui calcul la longueur du câble à partir de la list des profondeurs et du pas."
   ]
  },
  {
   "cell_type": "code",
   "execution_count": 13,
   "metadata": {},
   "outputs": [
    {
     "data": {
      "text/plain": [
       "521.0688534324091"
      ]
     },
     "execution_count": 13,
     "metadata": {},
     "output_type": "execute_result"
    }
   ],
   "source": [
    "def calculLongueur(depth, step):\n",
    "    length = 0\n",
    "    for i in range(len(depth)-1):\n",
    "        length += sqrt((depth[i+1]-depth[i])**2+step**2)\n",
    "    return length\n",
    "\n",
    "z = Psi_z + np.dot(np.linalg.cholesky(CSunk),vectAleatoire(95))\n",
    "\n",
    "calculLongueur(insertion(depth,observation_indexes,z),Delta)"
   ]
  },
  {
   "cell_type": "markdown",
   "metadata": {},
   "source": [
    "__Calcul de la longueur du câble à partir de 100 simulations__\n",
    "\n",
    "On créé donc une fonction simulation qui va simuler $n$ vecteurs et faire une moyenne de leurs longueurs. Par la suite, on calcule pour 100 simulations et on compare cela avec la longueur pour l'espérance conditionnelle."
   ]
  },
  {
   "cell_type": "code",
   "execution_count": 14,
   "metadata": {},
   "outputs": [
    {
     "name": "stdout",
     "output_type": "stream",
     "text": [
      "522.4972384051849\n",
      "501.6468416918411\n"
     ]
    }
   ],
   "source": [
    "def simulations(n):\n",
    "    somme = 0\n",
    "    for i in range(n):\n",
    "        z = Psi_z + np.dot(np.linalg.cholesky(CSunk),vectAleatoire(95))\n",
    "        somme += calculLongueur(insertion(depth,observation_indexes,z),Delta)\n",
    "    return somme/n\n",
    "   \n",
    "A1 = simulations(100)\n",
    "A2 = calculLongueur(profondeurs(depth,observation_indexes,Psi_z),Delta)\n",
    "print(A1)\n",
    "print(A2)"
   ]
  },
  {
   "cell_type": "markdown",
   "metadata": {},
   "source": [
    "On remarque que la moyenne pour les simulations est beaucoup plus grande que celle pour l'espérance conditionelle. Ce qui est normal car on calcule la moyenne des longueurs alors que la longueur pour l'espérance est une longueur calculée a partir des moyennes. por otenir un résultat similaire il faudrait calculer a moyenne de profondeur pour chaque position puis calculer la longueur. C'est logique que l'on se retrouve avec une distance de câble plus grande. Cela représente l'écart moyen en valeur absolu entre les simulations et l'espérance conditionnelle.\n",
    "\n",
    "On met donc la bonne simulation en place."
   ]
  },
  {
   "cell_type": "code",
   "execution_count": 15,
   "metadata": {},
   "outputs": [
    {
     "name": "stdout",
     "output_type": "stream",
     "text": [
      "501.9505834547018\n",
      "501.6468416918411\n"
     ]
    }
   ],
   "source": [
    "def simulations2(n):\n",
    "    temp = [0 for i in range(101)]\n",
    "    for i in range(n):\n",
    "        z = Psi_z + np.dot(np.linalg.cholesky(CSunk),vectAleatoire(95))\n",
    "        temp = addition(insertion(depth,observation_indexes,z),temp)\n",
    "    for i in range(101):\n",
    "        temp[i] = temp[i]/n\n",
    "    return calculLongueur(temp,Delta)\n",
    "\n",
    "A1 = simulations2(100)\n",
    "A2 = calculLongueur(profondeurs(depth,observation_indexes,Psi_z),Delta)\n",
    "print(A1)\n",
    "print(A2)"
   ]
  },
  {
   "cell_type": "markdown",
   "metadata": {},
   "source": [
    "Dans ce cas on moyenne d'abord les valeurs de façon à calculer les valeurs par la suite. On voit donc que les valeurs sont très proches ce qui est normal car les espérance sont les mêmes. Et si on faisait tendre n vers l'infini, la valeur tendrait vers l'espérance conitionnelle."
   ]
  },
  {
   "cell_type": "markdown",
   "metadata": {},
   "source": [
    "__Représentation de la moyenne des longueurs de câbles en fonction des simulations__\n",
    "\n",
    "Par la suite, on étudie la moyenne des longueurs de câble en fonction du nombre de simulations. Tout d'abord pour la mauvaise simulation."
   ]
  },
  {
   "cell_type": "code",
   "execution_count": 16,
   "metadata": {
    "scrolled": true
   },
   "outputs": [
    {
     "data": {
      "image/png": "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\n",
      "text/plain": [
       "<Figure size 432x288 with 1 Axes>"
      ]
     },
     "metadata": {
      "needs_background": "light"
     },
     "output_type": "display_data"
    }
   ],
   "source": [
    "x = [i for i in range(1,100)]\n",
    "y = [simulations(i) for i in x]\n",
    "plt.plot(x,y)\n",
    "plt.title('Evolution de la moyenne empirique en fonction de n, nombre de simulations')\n",
    "plt.show()"
   ]
  },
  {
   "cell_type": "markdown",
   "metadata": {},
   "source": [
    "On peut voir que cette moyenne tend vers une valeur autour de 522,5. Après 30 simulations, on se retrouve dans un intervalle de [522,523]. La méthode convergence donc très rapidement. \n",
    "\n",
    "Puis, pour la bonne simulation."
   ]
  },
  {
   "cell_type": "code",
   "execution_count": 17,
   "metadata": {},
   "outputs": [
    {
     "data": {
      "image/png": "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\n",
      "text/plain": [
       "<Figure size 432x288 with 1 Axes>"
      ]
     },
     "metadata": {
      "needs_background": "light"
     },
     "output_type": "display_data"
    }
   ],
   "source": [
    "x = [i for i in range(1,100)]\n",
    "y = [simulations2(i) for i in x]\n",
    "plt.plot(x,y)\n",
    "plt.title('Evolution de la moyenne empirique en fonction de n, nombre de simulations')\n",
    "plt.show()"
   ]
  },
  {
   "cell_type": "markdown",
   "metadata": {},
   "source": [
    "On s'intéresse maintenant à l'étude de la longueur de moyenne. On peut voir la rapidité de la convergence qui est bien supérieur à celle de la simulation erronée. On peut égalemen voir que l'on tend vers une valeur cohérente. On tend bien vers la longueur de câble pour l'espérance conditionnelle. "
   ]
  },
  {
   "cell_type": "markdown",
   "metadata": {},
   "source": [
    "__Histogramme des longueurs de câble générées.__"
   ]
  },
  {
   "cell_type": "code",
   "execution_count": 18,
   "metadata": {},
   "outputs": [
    {
     "data": {
      "image/png": "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\n",
      "text/plain": [
       "<Figure size 432x288 with 1 Axes>"
      ]
     },
     "metadata": {
      "needs_background": "light"
     },
     "output_type": "display_data"
    }
   ],
   "source": [
    "data1 = []\n",
    "for i in range(100):\n",
    "    z = Psi_z + np.dot(np.linalg.cholesky(CSunk),vectAleatoire(95))\n",
    "    data1.append(calculLongueur(insertion(depth,observation_indexes,z),Delta))\n",
    "\n",
    "plt.hist(data1, bins = [513+i/10 for i in range(200)])\n",
    "plt.title('Répartition des longueurs de câble avec 100 simulations', fontsize=10)\n",
    "plt.show()"
   ]
  },
  {
   "cell_type": "markdown",
   "metadata": {},
   "source": [
    "__Intervalle de confiance avec 2 méthodes et probabilité que la longueur dépasse 525m__\n",
    "\n",
    "Pour les 2 méthodes d'intervalles:\n",
    ">on utilise l'écart-type, en disant que 95% des valeurs sont comprises entre la moyenne plus ou moins 2 fois l'écart-type.\n",
    "\n",
    ">un méthode empirique testant dans un intervalle puis l'aggradissant tout en le gardant centré sur la moyenne.\n",
    "\n",
    "Pour la probabilité, on regarde simplement la proportion de valeur au dessus de 525 sur le nombre de simulation totales."
   ]
  },
  {
   "cell_type": "code",
   "execution_count": 19,
   "metadata": {},
   "outputs": [],
   "source": [
    "def proba525(datas):\n",
    "    temp = 0\n",
    "    for i in datas:\n",
    "        if i >= 525:\n",
    "            temp +=1\n",
    "    return temp/len(datas)"
   ]
  },
  {
   "cell_type": "code",
   "execution_count": 20,
   "metadata": {},
   "outputs": [],
   "source": [
    "def moyenne(datas):\n",
    "    moyenne = 0\n",
    "    for i in datas:\n",
    "        moyenne += i\n",
    "    return moyenne/len(datas)\n",
    "\n",
    "def interConf1(datas,precision):\n",
    "    m = moyenne(datas)\n",
    "    p = 0\n",
    "    temp = 0\n",
    "    while p < 0.95:\n",
    "        p = 0\n",
    "        temp += 1\n",
    "        for i in datas:\n",
    "            if m-temp*precision/2 <= i <= m+temp*precision/2:\n",
    "                p += 1\n",
    "        p /= len(datas)\n",
    "    return [m-temp*precision/2,m+temp*precision/2]"
   ]
  },
  {
   "cell_type": "markdown",
   "metadata": {},
   "source": [
    "__Pour 100 simulations__"
   ]
  },
  {
   "cell_type": "code",
   "execution_count": 21,
   "metadata": {},
   "outputs": [
    {
     "data": {
      "text/plain": [
       "[516.4690044840963, 527.7370044840964]"
      ]
     },
     "execution_count": 21,
     "metadata": {},
     "output_type": "execute_result"
    }
   ],
   "source": [
    "interConf1(data1,0.001)"
   ]
  },
  {
   "cell_type": "code",
   "execution_count": 22,
   "metadata": {},
   "outputs": [],
   "source": [
    "def variance(datas):\n",
    "    m=moyenne(datas)\n",
    "    return moyenne([(x-m)**2 for x in datas])\n",
    "\n",
    "def ecarttype(datas):\n",
    "    return sqrt(variance(datas))\n",
    "\n",
    "def interConf2(datas):\n",
    "    return [moyenne(datas)-2*ecarttype(datas),moyenne(datas)+2*ecarttype(datas)]"
   ]
  },
  {
   "cell_type": "code",
   "execution_count": 23,
   "metadata": {
    "scrolled": true
   },
   "outputs": [
    {
     "data": {
      "text/plain": [
       "[516.2014616695944, 528.0045472985983]"
      ]
     },
     "execution_count": 23,
     "metadata": {},
     "output_type": "execute_result"
    }
   ],
   "source": [
    "interConf2(data1)"
   ]
  },
  {
   "cell_type": "markdown",
   "metadata": {},
   "source": [
    "On remarque que les 2 méthodes nous donne des intervalles très proches."
   ]
  },
  {
   "cell_type": "code",
   "execution_count": 24,
   "metadata": {},
   "outputs": [
    {
     "data": {
      "text/plain": [
       "0.18"
      ]
     },
     "execution_count": 24,
     "metadata": {},
     "output_type": "execute_result"
    }
   ],
   "source": [
    "proba525(data1)"
   ]
  },
  {
   "cell_type": "markdown",
   "metadata": {},
   "source": [
    "__Pour 1000 simulations__"
   ]
  },
  {
   "cell_type": "code",
   "execution_count": 26,
   "metadata": {},
   "outputs": [
    {
     "data": {
      "image/png": "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\n",
      "text/plain": [
       "<Figure size 432x288 with 1 Axes>"
      ]
     },
     "metadata": {
      "needs_background": "light"
     },
     "output_type": "display_data"
    }
   ],
   "source": [
    "data2= []\n",
    "for i in range(1000):\n",
    "    z = Psi_z + np.dot(np.linalg.cholesky(CSunk),vectAleatoire(95))\n",
    "    data2.append(calculLongueur(insertion(depth,observation_indexes,z),Delta))\n",
    "\n",
    "plt.hist(data2, bins = [513+i/10 for i in range(220)])\n",
    "plt.title('Répartition des longueurs de câble avec 1000 simulations', fontsize=10)\n",
    "plt.show()"
   ]
  },
  {
   "cell_type": "code",
   "execution_count": 27,
   "metadata": {},
   "outputs": [
    {
     "data": {
      "text/plain": [
       "[516.8239327827301, 527.99193278273]"
      ]
     },
     "execution_count": 27,
     "metadata": {},
     "output_type": "execute_result"
    }
   ],
   "source": [
    "interConf1(data2,0.001)"
   ]
  },
  {
   "cell_type": "code",
   "execution_count": 28,
   "metadata": {},
   "outputs": [
    {
     "data": {
      "text/plain": [
       "[516.7153428641121, 528.100522701348]"
      ]
     },
     "execution_count": 28,
     "metadata": {},
     "output_type": "execute_result"
    }
   ],
   "source": [
    "interConf2(data2)"
   ]
  },
  {
   "cell_type": "code",
   "execution_count": 29,
   "metadata": {
    "scrolled": true
   },
   "outputs": [
    {
     "data": {
      "text/plain": [
       "0.177"
      ]
     },
     "execution_count": 29,
     "metadata": {},
     "output_type": "execute_result"
    }
   ],
   "source": [
    "proba525(data2)"
   ]
  },
  {
   "cell_type": "markdown",
   "metadata": {},
   "source": [
    "__Pour 10000 simulations__"
   ]
  },
  {
   "cell_type": "code",
   "execution_count": 30,
   "metadata": {},
   "outputs": [
    {
     "data": {
      "image/png": "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\n",
      "text/plain": [
       "<Figure size 432x288 with 1 Axes>"
      ]
     },
     "metadata": {
      "needs_background": "light"
     },
     "output_type": "display_data"
    }
   ],
   "source": [
    "data3 = []\n",
    "for i in range(10000):\n",
    "    z = Psi_z + np.dot(np.linalg.cholesky(CSunk),vectAleatoire(95))\n",
    "    data3.append(calculLongueur(insertion(depth,observation_indexes,z),Delta))\n",
    "\n",
    "plt.hist(data3, bins = [513+i/10 for i in range(220)])\n",
    "plt.title('Répartition des longueurs de câble avec 10000 simulations', fontsize=10)\n",
    "plt.show()"
   ]
  },
  {
   "cell_type": "code",
   "execution_count": 31,
   "metadata": {},
   "outputs": [
    {
     "data": {
      "text/plain": [
       "[516.717862854058, 528.1178628540581]"
      ]
     },
     "execution_count": 31,
     "metadata": {},
     "output_type": "execute_result"
    }
   ],
   "source": [
    "interConf1(data3,0.01)"
   ]
  },
  {
   "cell_type": "code",
   "execution_count": 32,
   "metadata": {},
   "outputs": [
    {
     "data": {
      "text/plain": [
       "[516.6335026085684, 528.2022230995477]"
      ]
     },
     "execution_count": 32,
     "metadata": {},
     "output_type": "execute_result"
    }
   ],
   "source": [
    "interConf2(data3)"
   ]
  },
  {
   "cell_type": "code",
   "execution_count": 33,
   "metadata": {},
   "outputs": [
    {
     "data": {
      "text/plain": [
       "0.1809"
      ]
     },
     "execution_count": 33,
     "metadata": {},
     "output_type": "execute_result"
    }
   ],
   "source": [
    "proba525(data3)"
   ]
  },
  {
   "cell_type": "markdown",
   "metadata": {},
   "source": [
    "__Pour 100000 simulations__"
   ]
  },
  {
   "cell_type": "code",
   "execution_count": 34,
   "metadata": {},
   "outputs": [
    {
     "data": {
      "image/png": "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\n",
      "text/plain": [
       "<Figure size 432x288 with 1 Axes>"
      ]
     },
     "metadata": {
      "needs_background": "light"
     },
     "output_type": "display_data"
    }
   ],
   "source": [
    "data4 = []\n",
    "for i in range(100000):\n",
    "    z = Psi_z + np.dot(np.linalg.cholesky(CSunk),vectAleatoire(95))\n",
    "    data4.append(calculLongueur(insertion(depth,observation_indexes,z),Delta))\n",
    "\n",
    "plt.hist(data4, bins = [512+i/10 for i in range(220)])\n",
    "plt.title('Répartition des longueurs de câble avec 100000 simulations', fontsize=10)\n",
    "plt.show()"
   ]
  },
  {
   "cell_type": "code",
   "execution_count": 35,
   "metadata": {},
   "outputs": [
    {
     "data": {
      "text/plain": [
       "[516.7651228829136, 528.1151228829135]"
      ]
     },
     "execution_count": 35,
     "metadata": {},
     "output_type": "execute_result"
    }
   ],
   "source": [
    "interConf1(data4,0.01)"
   ]
  },
  {
   "cell_type": "code",
   "execution_count": 36,
   "metadata": {
    "scrolled": true
   },
   "outputs": [
    {
     "data": {
      "text/plain": [
       "[516.6262243593319, 528.2540214064952]"
      ]
     },
     "execution_count": 36,
     "metadata": {},
     "output_type": "execute_result"
    }
   ],
   "source": [
    "interConf2(data4)"
   ]
  },
  {
   "cell_type": "code",
   "execution_count": 37,
   "metadata": {
    "scrolled": true
   },
   "outputs": [
    {
     "data": {
      "text/plain": [
       "0.18616"
      ]
     },
     "execution_count": 37,
     "metadata": {},
     "output_type": "execute_result"
    }
   ],
   "source": [
    "proba525(data4)"
   ]
  },
  {
   "cell_type": "markdown",
   "metadata": {},
   "source": [
    "__Conclusion__\n",
    "\n",
    "On peut donc remarquer que ces méthodes de simulations numériques sont très efficaces et permettent d'obtenir des résultats très proche de la théorie dans de faibles temps. On peut également voir que pour 100 simulations, l'histogramme n'est pas très précis et la probabilité ainsi que les intervalles diffèrent un peu des calculs avec des simulations plus nombreuses. Mais à partir de 1000 simulations, on se retrouve dans des intervalles qui sont toujours similaires avec des probabilités qui sont proches les unes des autres. De plus pour 1000 simulations les calculs sont très rapides, il n'y a pas de temps d'attente."
   ]
  }
 ],
 "metadata": {
  "kernelspec": {
   "display_name": "Python 3",
   "language": "python",
   "name": "python3"
  },
  "language_info": {
   "codemirror_mode": {
    "name": "ipython",
    "version": 3
   },
   "file_extension": ".py",
   "mimetype": "text/x-python",
   "name": "python",
   "nbconvert_exporter": "python",
   "pygments_lexer": "ipython3",
   "version": "3.7.1"
  }
 },
 "nbformat": 4,
 "nbformat_minor": 2
}
